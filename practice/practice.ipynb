{
 "cells": [
  {
   "cell_type": "markdown",
   "metadata": {},
   "source": [
    "### in terminal (cmd (should be default)):\n",
    "\n",
    "# create new environment called env_streamlit\n",
    "conda create -n env_streamlit python\n",
    "\n",
    "# activate new environment\n",
    "conda activate env_streamlit\n",
    "\n",
    "# install packages:\n",
    "pip install ipykernel    # for jupyter notebook in vs code (cant use .ipynb without)\n",
    "\n",
    "# check list of installed packages in env_streamlit environment\n",
    "pip list\n",
    "\n",
    "### in jupyter notebook\n",
    "manually select env_streamlit kernel in top right"
   ]
  },
  {
   "cell_type": "code",
   "execution_count": 1,
   "metadata": {},
   "outputs": [
    {
     "name": "stdout",
     "output_type": "stream",
     "text": [
      "my first streamlit app\n"
     ]
    }
   ],
   "source": [
    "print(\"my first streamlit app\")"
   ]
  }
 ],
 "metadata": {
  "kernelspec": {
   "display_name": "env_streamlit",
   "language": "python",
   "name": "python3"
  },
  "language_info": {
   "codemirror_mode": {
    "name": "ipython",
    "version": 3
   },
   "file_extension": ".py",
   "mimetype": "text/x-python",
   "name": "python",
   "nbconvert_exporter": "python",
   "pygments_lexer": "ipython3",
   "version": "3.12.3"
  }
 },
 "nbformat": 4,
 "nbformat_minor": 2
}
